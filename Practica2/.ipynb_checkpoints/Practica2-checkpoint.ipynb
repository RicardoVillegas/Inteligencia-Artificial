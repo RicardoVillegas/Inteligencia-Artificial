{
 "cells": [
  {
   "cell_type": "code",
   "execution_count": 4,
   "metadata": {},
   "outputs": [],
   "source": [
    "from owlready2 import *"
   ]
  },
  {
   "cell_type": "code",
   "execution_count": 5,
   "metadata": {},
   "outputs": [
    {
     "name": "stdout",
     "output_type": "stream",
     "text": [
      "[obi.aspirin1, obi.lactose1]\n"
     ]
    },
    {
     "name": "stderr",
     "output_type": "stream",
     "text": [
      "* Owlready2 * Running HermiT...\n",
      "    java -Xmx2000M -cp C:\\Users\\Ricardo\\Anaconda3\\lib\\site-packages\\owlready2\\hermit;C:\\Users\\Ricardo\\Anaconda3\\lib\\site-packages\\owlready2\\hermit\\HermiT.jar org.semanticweb.HermiT.cli.CommandLine -c -O -D -I file:///C:/Users/Ricardo/AppData/Local/Temp/tmpyp54cw8x\n"
     ]
    },
    {
     "name": "stdout",
     "output_type": "stream",
     "text": [
      "Bahhh!\n"
     ]
    },
    {
     "name": "stderr",
     "output_type": "stream",
     "text": [
      "* Owlready2 * HermiT took 1.94028639793396 seconds\n",
      "* Owlready * Reparenting obi.drug1: {obi.Drug} => {obi.Drug & obi.hasIngredient.some(obi.Lactose), obi.DrugCILactoseIntolerance}\n"
     ]
    }
   ],
   "source": [
    "#Asigna el id de la ontologia\n",
    "drug_onto = get_ontology(\"https://raw.githubusercontent.com/obi-ontology/obi/v2018-05-23/obi.owl\")\n",
    "with drug_onto:\n",
    "    #Creacion de clases\n",
    "    class Drug(Thing):\n",
    "        def take(self):\n",
    "            print(\"Take\")\n",
    "    #Creacion de la clase ingrediente\n",
    "    class Ingredient(Thing): pass\n",
    "    \n",
    "    #Clase ActivePrinciple hija de Ingredient\n",
    "    class ActivePrinciple(Ingredient): pass\n",
    "    \n",
    "    #Clase Aspirin hija de ActivePrinciple\n",
    "    class Aspirin(ActivePrinciple): pass\n",
    "    \n",
    "    #Clase hija de Ingrediente, igual que ActivePrinciple\n",
    "    class Excipient(Ingredient): pass\n",
    "    \n",
    "    class Lactose(Excipient): pass\n",
    "    \n",
    "    #Declaracion de propiedad de la clase Drug, lista \n",
    "    #de Ingredientes, se puede asignar Excipient, porque \n",
    "    #es hija de Ingredient, y a su vez Lactose\n",
    "    #al ser clase hija de Excipient \n",
    "    class hasIngredient(ObjectProperty):\n",
    "        domain = [Drug]\n",
    "        range = [Ingredient]\n",
    "            \n",
    "    #Al ser clase hija de Drug, esta tiene la clase \n",
    "    #propiedad hasIngredient. Un Property en owlready \n",
    "    #tiene ciertos atributos, en este caso se asigno con some\n",
    "    class DrugCILactoseIntolerance(Drug):\n",
    "        equivalent_to = [\n",
    "            Drug \n",
    "            & hasIngredient.some(Lactose) \n",
    "        ]\n",
    "        def take(self):\n",
    "            print(\"Bahhh!\")\n",
    "            \n",
    "        \n",
    "    class DrugOkLactoseIntolerance(Drug):\n",
    "        equivalent_to = [\n",
    "            Drug\n",
    "            & Not(hasIngredient.some(Lactose))\n",
    "        ]\n",
    "        def take(self):\n",
    "            print(\"Ok, it is safe for me.\")\n",
    "#Se crea una instancia de la clase Drug\n",
    "test_drug = drug_onto.Drug()\n",
    "\n",
    "#Se crean instancias de Aspirin y Lactose\n",
    "aspirin = drug_onto.Aspirin()\n",
    "lactose = drug_onto.Lactose()\n",
    "\n",
    "\n",
    "#Se asigna range de los ingredientes\n",
    "test_drug.hasIngredient = [aspirin,lactose]\n",
    "\n",
    "\n",
    "print(test_drug.hasIngredient)\n",
    "\n",
    "#Se llama al razonador\n",
    "sync_reasoner()\n",
    "\n",
    "#Como Drug tiene Lactose in su propiedades, test_drug se asigna como \n",
    "#DrugCILactoseIntolerance, y al hacer el llamado de la funcion take, \n",
    "#se utiliza la funcion de DrugCILactoseIntolerance, mas no la de Drug\n",
    "test_drug.take()"
   ]
  },
  {
   "cell_type": "code",
   "execution_count": null,
   "metadata": {},
   "outputs": [],
   "source": []
  }
 ],
 "metadata": {
  "kernelspec": {
   "display_name": "Python 3",
   "language": "python",
   "name": "python3"
  }
 },
 "nbformat": 4,
 "nbformat_minor": 2
}
